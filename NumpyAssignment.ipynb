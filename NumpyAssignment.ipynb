{
  "nbformat": 4,
  "nbformat_minor": 0,
  "metadata": {
    "colab": {
      "name": "NumpyAssignment.ipynb",
      "provenance": [],
      "collapsed_sections": []
    },
    "kernelspec": {
      "name": "python3",
      "display_name": "Python 3"
    },
    "language_info": {
      "name": "python"
    }
  },
  "cells": [
    {
      "cell_type": "code",
      "execution_count": 1,
      "metadata": {
        "id": "oQXkXjj81lbt"
      },
      "outputs": [],
      "source": [
        "import numpy as np\n"
      ]
    },
    {
      "cell_type": "code",
      "source": [
        "#Ans1 -- Option C\n",
        "my_array = np.array([[[[1,3,4]]]])\n",
        "np.array(my_array, ndmin=5)"
      ],
      "metadata": {
        "colab": {
          "base_uri": "https://localhost:8080/"
        },
        "id": "9H8o9Es81udT",
        "outputId": "6697aadf-f7a7-4b7b-bd63-0c3d54af7478"
      },
      "execution_count": 3,
      "outputs": [
        {
          "output_type": "execute_result",
          "data": {
            "text/plain": [
              "array([[[[[1, 3, 4]]]]])"
            ]
          },
          "metadata": {},
          "execution_count": 3
        }
      ]
    },
    {
      "cell_type": "code",
      "source": [
        "#Ans 2 \n",
        "#definition of Array1 and Array2 gives name error as the syntax is np.array([[1,2,3],[4,5,6]])\n",
        "#even if that is resolved the dot product would not be performed and value error will be given as \n",
        "#the dimensions of bothe the array is different\n",
        "\n",
        "\n",
        "Array1 =np.array([[1, 2, 3], [4, 5, 6]]) \n",
        "Array2 =np.array([[2, 3],[3, 2]])\n",
        "np.dot(Array1,Array2)"
      ],
      "metadata": {
        "colab": {
          "base_uri": "https://localhost:8080/",
          "height": 235
        },
        "id": "cezbJ4H61voa",
        "outputId": "9ae55515-2316-4632-b7d8-d66c8c3be3b4"
      },
      "execution_count": 4,
      "outputs": [
        {
          "output_type": "error",
          "ename": "ValueError",
          "evalue": "ignored",
          "traceback": [
            "\u001b[0;31m---------------------------------------------------------------------------\u001b[0m",
            "\u001b[0;31mValueError\u001b[0m                                Traceback (most recent call last)",
            "\u001b[0;32m<ipython-input-4-e344b11020d3>\u001b[0m in \u001b[0;36m<module>\u001b[0;34m()\u001b[0m\n\u001b[1;32m      7\u001b[0m \u001b[0mArray1\u001b[0m \u001b[0;34m=\u001b[0m\u001b[0mnp\u001b[0m\u001b[0;34m.\u001b[0m\u001b[0marray\u001b[0m\u001b[0;34m(\u001b[0m\u001b[0;34m[\u001b[0m\u001b[0;34m[\u001b[0m\u001b[0;36m1\u001b[0m\u001b[0;34m,\u001b[0m \u001b[0;36m2\u001b[0m\u001b[0;34m,\u001b[0m \u001b[0;36m3\u001b[0m\u001b[0;34m]\u001b[0m\u001b[0;34m,\u001b[0m \u001b[0;34m[\u001b[0m\u001b[0;36m4\u001b[0m\u001b[0;34m,\u001b[0m \u001b[0;36m5\u001b[0m\u001b[0;34m,\u001b[0m \u001b[0;36m6\u001b[0m\u001b[0;34m]\u001b[0m\u001b[0;34m]\u001b[0m\u001b[0;34m)\u001b[0m\u001b[0;34m\u001b[0m\u001b[0;34m\u001b[0m\u001b[0m\n\u001b[1;32m      8\u001b[0m \u001b[0mArray2\u001b[0m \u001b[0;34m=\u001b[0m\u001b[0mnp\u001b[0m\u001b[0;34m.\u001b[0m\u001b[0marray\u001b[0m\u001b[0;34m(\u001b[0m\u001b[0;34m[\u001b[0m\u001b[0;34m[\u001b[0m\u001b[0;36m2\u001b[0m\u001b[0;34m,\u001b[0m \u001b[0;36m3\u001b[0m\u001b[0;34m]\u001b[0m\u001b[0;34m,\u001b[0m\u001b[0;34m[\u001b[0m\u001b[0;36m3\u001b[0m\u001b[0;34m,\u001b[0m \u001b[0;36m2\u001b[0m\u001b[0;34m]\u001b[0m\u001b[0;34m]\u001b[0m\u001b[0;34m)\u001b[0m\u001b[0;34m\u001b[0m\u001b[0;34m\u001b[0m\u001b[0m\n\u001b[0;32m----> 9\u001b[0;31m \u001b[0mnp\u001b[0m\u001b[0;34m.\u001b[0m\u001b[0mdot\u001b[0m\u001b[0;34m(\u001b[0m\u001b[0mArray1\u001b[0m\u001b[0;34m,\u001b[0m\u001b[0mArray2\u001b[0m\u001b[0;34m)\u001b[0m\u001b[0;34m\u001b[0m\u001b[0;34m\u001b[0m\u001b[0m\n\u001b[0m",
            "\u001b[0;32m<__array_function__ internals>\u001b[0m in \u001b[0;36mdot\u001b[0;34m(*args, **kwargs)\u001b[0m\n",
            "\u001b[0;31mValueError\u001b[0m: shapes (2,3) and (2,2) not aligned: 3 (dim 1) != 2 (dim 0)"
          ]
        }
      ]
    },
    {
      "cell_type": "code",
      "source": [
        "#ANS 3 -- Option C\n",
        "Array3=np.array([10,3,1,203,404,204,20,302,30,402,192])\n",
        "Array3[::-1]"
      ],
      "metadata": {
        "colab": {
          "base_uri": "https://localhost:8080/"
        },
        "id": "ZmRW5MKt1yOx",
        "outputId": "a28efcb6-501a-4414-cb1e-c43616bd01f3"
      },
      "execution_count": 5,
      "outputs": [
        {
          "output_type": "execute_result",
          "data": {
            "text/plain": [
              "array([192, 402,  30, 302,  20, 204, 404, 203,   1,   3,  10])"
            ]
          },
          "metadata": {},
          "execution_count": 5
        }
      ]
    },
    {
      "cell_type": "code",
      "source": [
        "#ANS 4 -- Option B\n",
        "a = [[1, 0], [0, 1]]\n",
        "b = [[4, 1], [2, 2]]\n",
        "np.dot(a, b)"
      ],
      "metadata": {
        "colab": {
          "base_uri": "https://localhost:8080/"
        },
        "id": "KgPCn3fl2Gzg",
        "outputId": "270c05f9-4166-470d-98e2-46c68b8648ce"
      },
      "execution_count": 7,
      "outputs": [
        {
          "output_type": "execute_result",
          "data": {
            "text/plain": [
              "array([[4, 1],\n",
              "       [2, 2]])"
            ]
          },
          "metadata": {},
          "execution_count": 7
        }
      ]
    },
    {
      "cell_type": "code",
      "source": [
        "#ANS 5 -- OPTION A\n",
        "a = np.arange(3*4*5*6).reshape((3,4,5,6))\n",
        "b = np.arange(3*4*5*6)[::-1].reshape((5,4,6,3))\n",
        "np.dot(a, b)[2,3,2,1,2,2]"
      ],
      "metadata": {
        "colab": {
          "base_uri": "https://localhost:8080/"
        },
        "id": "ln_u9IFH2KNh",
        "outputId": "d6c5a109-0234-4152-c6fc-6dfd710d0e45"
      },
      "execution_count": 10,
      "outputs": [
        {
          "output_type": "execute_result",
          "data": {
            "text/plain": [
              "499128"
            ]
          },
          "metadata": {},
          "execution_count": 10
        }
      ]
    },
    {
      "cell_type": "code",
      "source": [
        "#ANS 6 -- Option A\n",
        "\n",
        "a = np.array([3, 7, 32], dtype = complex)\n",
        "print(a)"
      ],
      "metadata": {
        "colab": {
          "base_uri": "https://localhost:8080/"
        },
        "id": "hee0k6P52SP1",
        "outputId": "856cc4ce-36c2-4398-8fb2-5834ae12adf5"
      },
      "execution_count": 12,
      "outputs": [
        {
          "output_type": "stream",
          "name": "stdout",
          "text": [
            "[ 3.+0.j  7.+0.j 32.+0.j]\n"
          ]
        }
      ]
    },
    {
      "cell_type": "code",
      "source": [
        "#ANS7 -- Option C\n",
        "np.random.seed(100)\n",
        "ar1 = np.random.uniform(1,50,20)\n",
        "ar2 = np.clip(ar1, a_min=10, a_max=30)\n",
        "ar3 = np.where(ar1 < 10, 10, np.where(ar1 > 30, 30, ar1))\n",
        "print(ar1)\n",
        "print(ar2)\n",
        "print(ar3)"
      ],
      "metadata": {
        "colab": {
          "base_uri": "https://localhost:8080/"
        },
        "id": "oDywJ_f-2foa",
        "outputId": "d305f3a2-c8b8-4a45-c7d2-ad84e3edf617"
      },
      "execution_count": 15,
      "outputs": [
        {
          "output_type": "stream",
          "name": "stdout",
          "text": [
            "[27.62684215 14.64009987 21.80136195 42.39403048  1.23122395  6.95688692\n",
            " 33.86670515 41.466785    7.69862289 29.17957314 44.67477576 11.25090398\n",
            " 10.08108276  6.31046763 11.76517714 48.95256545 40.77247431  9.42510962\n",
            " 40.99501269 14.42961361]\n",
            "[27.62684215 14.64009987 21.80136195 30.         10.         10.\n",
            " 30.         30.         10.         29.17957314 30.         11.25090398\n",
            " 10.08108276 10.         11.76517714 30.         30.         10.\n",
            " 30.         14.42961361]\n",
            "[27.62684215 14.64009987 21.80136195 30.         10.         10.\n",
            " 30.         30.         10.         29.17957314 30.         11.25090398\n",
            " 10.08108276 10.         11.76517714 30.         30.         10.\n",
            " 30.         14.42961361]\n"
          ]
        }
      ]
    },
    {
      "cell_type": "code",
      "source": [
        "#ANS 8 OPTION --D\n",
        "array = np.array([10,3,1,203,404,204,20,302,30,402,192])\n",
        "array2 = [1,2,3,4]\n",
        "np.insert(array,4,array2)"
      ],
      "metadata": {
        "colab": {
          "base_uri": "https://localhost:8080/"
        },
        "id": "fsm7aTG12mft",
        "outputId": "8c099320-d620-4480-e4d6-3c2f18d70e7a"
      },
      "execution_count": 14,
      "outputs": [
        {
          "output_type": "execute_result",
          "data": {
            "text/plain": [
              "array([ 10,   3,   1, 203,   1,   2,   3,   4, 404, 204,  20, 302,  30,\n",
              "       402, 192])"
            ]
          },
          "metadata": {},
          "execution_count": 14
        }
      ]
    },
    {
      "cell_type": "code",
      "source": [
        "#ANS 9 OPTION -- C\n",
        "np.full((3,3), 'k')"
      ],
      "metadata": {
        "colab": {
          "base_uri": "https://localhost:8080/"
        },
        "id": "P8UBxZfA2p6z",
        "outputId": "946f1647-69db-429c-b5fd-df34e07afc38"
      },
      "execution_count": 17,
      "outputs": [
        {
          "output_type": "execute_result",
          "data": {
            "text/plain": [
              "array([['k', 'k', 'k'],\n",
              "       ['k', 'k', 'k'],\n",
              "       ['k', 'k', 'k']], dtype='<U1')"
            ]
          },
          "metadata": {},
          "execution_count": 17
        }
      ]
    },
    {
      "cell_type": "code",
      "source": [
        "#ANS 10 OPTION -- B\n",
        "def bub_sort(array):\n",
        "    for i in range(0, len(array)):\n",
        "        for j in range(0, len(array) - i - 1):\n",
        "            if array[j] < array[j + 1]:\n",
        "                temp = array[j]\n",
        "                array[j] = array[j + 1]\n",
        "                array[j+1] = temp\n",
        "    return array\n",
        "array = np.array([20,14,25,16,45,60,12,9])\n",
        "bub_sort(array)"
      ],
      "metadata": {
        "colab": {
          "base_uri": "https://localhost:8080/"
        },
        "id": "owu_zAKh2vnA",
        "outputId": "99ebce58-94df-497f-f7eb-903b31a88fc6"
      },
      "execution_count": 19,
      "outputs": [
        {
          "output_type": "execute_result",
          "data": {
            "text/plain": [
              "array([60, 45, 25, 20, 16, 14, 12,  9])"
            ]
          },
          "metadata": {},
          "execution_count": 19
        }
      ]
    },
    {
      "cell_type": "code",
      "source": [
        "#ANS 11 OPTION -- D\n",
        "arr = np.full((2,5),40)\n",
        "print(arr)\n",
        "arr.reshape(5,2)"
      ],
      "metadata": {
        "colab": {
          "base_uri": "https://localhost:8080/"
        },
        "id": "ztfwOctI2z0I",
        "outputId": "72008c2b-c21f-45a8-ddd5-ca0a925c3e5f"
      },
      "execution_count": 21,
      "outputs": [
        {
          "output_type": "stream",
          "name": "stdout",
          "text": [
            "[[40 40 40 40 40]\n",
            " [40 40 40 40 40]]\n"
          ]
        },
        {
          "output_type": "execute_result",
          "data": {
            "text/plain": [
              "array([[40, 40],\n",
              "       [40, 40],\n",
              "       [40, 40],\n",
              "       [40, 40],\n",
              "       [40, 40]])"
            ]
          },
          "metadata": {},
          "execution_count": 21
        }
      ]
    },
    {
      "cell_type": "code",
      "source": [
        "#ANS 12 OPTION -- A\n",
        "Sample = np.array([[1,2],[3,4],[5,6],[7,8]])\n",
        "Sample.flatten()"
      ],
      "metadata": {
        "colab": {
          "base_uri": "https://localhost:8080/"
        },
        "id": "SL507uGU26j6",
        "outputId": "2f45e06a-78ab-46c2-bdbb-511e0f704b1b"
      },
      "execution_count": 23,
      "outputs": [
        {
          "output_type": "execute_result",
          "data": {
            "text/plain": [
              "array([1, 2, 3, 4, 5, 6, 7, 8])"
            ]
          },
          "metadata": {},
          "execution_count": 23
        }
      ]
    },
    {
      "cell_type": "code",
      "source": [
        "#ANS 13 OPTION -- A\n",
        "ARRAY6 = np.array([[1,2,3],[4,5,6],[7,8,9],[10,11,12],[13,14,15]])\n",
        "ARRAY6[0:3,1]"
      ],
      "metadata": {
        "colab": {
          "base_uri": "https://localhost:8080/"
        },
        "id": "G2lnnpC92_F9",
        "outputId": "24d5b847-76e8-4ea8-dc4e-81dfa05b1030"
      },
      "execution_count": 25,
      "outputs": [
        {
          "output_type": "execute_result",
          "data": {
            "text/plain": [
              "array([2, 5, 8])"
            ]
          },
          "metadata": {},
          "execution_count": 25
        }
      ]
    },
    {
      "cell_type": "code",
      "source": [
        "#ANS 14 OPTION -- D\n",
        "ARRAY7 = np.arange(19,0,-2)\n",
        "print(ARRAY7)\n",
        "ARRAY8 = np.array([1,2,3,4,5,6,7,8,9,10])\n",
        "print(ARRAY8)\n",
        "np.hstack((ARRAY7,ARRAY8))"
      ],
      "metadata": {
        "colab": {
          "base_uri": "https://localhost:8080/"
        },
        "id": "Lo2l-sxG3CNx",
        "outputId": "b021b82e-42be-4d74-c38c-138547bb8adc"
      },
      "execution_count": 27,
      "outputs": [
        {
          "output_type": "stream",
          "name": "stdout",
          "text": [
            "[19 17 15 13 11  9  7  5  3  1]\n",
            "[ 1  2  3  4  5  6  7  8  9 10]\n"
          ]
        },
        {
          "output_type": "execute_result",
          "data": {
            "text/plain": [
              "array([19, 17, 15, 13, 11,  9,  7,  5,  3,  1,  1,  2,  3,  4,  5,  6,  7,\n",
              "        8,  9, 10])"
            ]
          },
          "metadata": {},
          "execution_count": 27
        }
      ]
    },
    {
      "cell_type": "code",
      "source": [
        "#ANS 15 OPTION -- A\n",
        "array9 = np.array([[1,2],[3,4]])\n",
        "array10 = np.array([[1,2],[3,4],[5,6],[7,8],[9,10]])\n",
        "np.vstack((array9,array10))"
      ],
      "metadata": {
        "colab": {
          "base_uri": "https://localhost:8080/"
        },
        "id": "JLMkkcV_3HIE",
        "outputId": "70443f07-ad1c-48dc-b9d6-3e824f77016a"
      },
      "execution_count": 28,
      "outputs": [
        {
          "output_type": "execute_result",
          "data": {
            "text/plain": [
              "array([[ 1,  2],\n",
              "       [ 3,  4],\n",
              "       [ 1,  2],\n",
              "       [ 3,  4],\n",
              "       [ 5,  6],\n",
              "       [ 7,  8],\n",
              "       [ 9, 10]])"
            ]
          },
          "metadata": {},
          "execution_count": 28
        }
      ]
    },
    {
      "cell_type": "code",
      "source": [
        "#ANS 16 OPTION -- A\n",
        "array11 = np.array([[1,2],[3,4]])\n",
        "array12 = np.array([[5,6],[7,8]])\n",
        "np.hstack((array11,array12))"
      ],
      "metadata": {
        "colab": {
          "base_uri": "https://localhost:8080/"
        },
        "id": "CxFp433x3NfY",
        "outputId": "80f723bc-b767-45da-b4b1-40f73d309c70"
      },
      "execution_count": 29,
      "outputs": [
        {
          "output_type": "execute_result",
          "data": {
            "text/plain": [
              "array([[1, 2, 5, 6],\n",
              "       [3, 4, 7, 8]])"
            ]
          },
          "metadata": {},
          "execution_count": 29
        }
      ]
    },
    {
      "cell_type": "code",
      "source": [
        "#ANS 17 \n",
        "'''\n",
        "The cross product of vector of length 13 is not possible since the required dimension is 3,\n",
        "hence we can convert the vector to 5,3 dimension array and then get the cross product of the vectors and \n",
        "again convert the result into a 1 dimension vector\n",
        "'''\n",
        "A = np.array([1,3,5,7,9,11,13,15,17,19,21,23,25])\n",
        "B = np.array([0,2,4,6,8,10,12,14,16,18,20, 22,24])\n",
        "\n",
        "length=np.size(A)\n",
        "\n",
        "def ArrayReshape(array):\n",
        "    if len(array) % 3 == 0:\n",
        "        pass\n",
        "    elif len(array) % 3 == 1:\n",
        "        bef_final_array=np.append(array,0)\n",
        "        final_array=np.append(bef_final_array,0)\n",
        "    elif len(array) % 3 == 2:\n",
        "        final_array=np.append(array,0)\n",
        "    \n",
        "    return final_array\n",
        "\n",
        "    \n",
        "fin_A=ArrayReshape(A).reshape(5,3)\n",
        "fin_B=ArrayReshape(B).reshape(5,3)\n",
        "D=np.cross(fin_A,fin_B)\n",
        "print(D)\n",
        "print('Cross Product is ',D[0,0],'i +',D[0,1],'j +',D[0,2],'k')"
      ],
      "metadata": {
        "colab": {
          "base_uri": "https://localhost:8080/"
        },
        "id": "Jgx0eI8f3PlH",
        "outputId": "23be08d5-2407-4aad-c1b0-58eb78a63715"
      },
      "execution_count": 50,
      "outputs": [
        {
          "output_type": "stream",
          "name": "stdout",
          "text": [
            "[[ 2 -4  2]\n",
            " [ 2 -4  2]\n",
            " [ 2 -4  2]\n",
            " [ 2 -4  2]\n",
            " [ 0  0  0]]\n",
            "Cross Product is  2 i + -4 j + 2 k\n"
          ]
        }
      ]
    },
    {
      "cell_type": "markdown",
      "source": [
        "**#Ans 18** \n"
      ],
      "metadata": {
        "id": "6XCP95ya5yp_"
      }
    },
    {
      "cell_type": "code",
      "source": [
        "np.corrcoef(A)"
      ],
      "metadata": {
        "colab": {
          "base_uri": "https://localhost:8080/"
        },
        "id": "7hCICLbf3ljD",
        "outputId": "cefe8c71-6b13-4db8-f76c-328710b3638a"
      },
      "execution_count": 51,
      "outputs": [
        {
          "output_type": "execute_result",
          "data": {
            "text/plain": [
              "1.0"
            ]
          },
          "metadata": {},
          "execution_count": 51
        }
      ]
    },
    {
      "cell_type": "code",
      "source": [
        "np.corrcoef(B)"
      ],
      "metadata": {
        "colab": {
          "base_uri": "https://localhost:8080/"
        },
        "id": "QOpElq9G5ebb",
        "outputId": "e2ed0524-225e-41a9-c440-df69c8a72b20"
      },
      "execution_count": 52,
      "outputs": [
        {
          "output_type": "execute_result",
          "data": {
            "text/plain": [
              "1.0"
            ]
          },
          "metadata": {},
          "execution_count": 52
        }
      ]
    },
    {
      "cell_type": "code",
      "source": [
        "np.corrcoef(A,B)"
      ],
      "metadata": {
        "colab": {
          "base_uri": "https://localhost:8080/"
        },
        "id": "3sSqNEd25iFI",
        "outputId": "a53d0403-f358-4f4d-a8fe-2e8853002383"
      },
      "execution_count": 53,
      "outputs": [
        {
          "output_type": "execute_result",
          "data": {
            "text/plain": [
              "array([[1., 1.],\n",
              "       [1., 1.]])"
            ]
          },
          "metadata": {},
          "execution_count": 53
        }
      ]
    },
    {
      "cell_type": "markdown",
      "source": [
        "**#ANS 19**"
      ],
      "metadata": {
        "id": "heL80_5L57an"
      }
    },
    {
      "cell_type": "code",
      "source": [
        "\n",
        "sample = {1: [1,2],2: [[1],[2]],3: [[1,2], [3,4], [4,5]],4: [1],5: [1,2,3,4,5]} \n",
        "values=list(sample.values())\n",
        "np.array(values,dtype=object).reshape(5,1)\n",
        "\n",
        "\n"
      ],
      "metadata": {
        "colab": {
          "base_uri": "https://localhost:8080/"
        },
        "id": "8zd-nZyf55Xc",
        "outputId": "2f942bf2-f250-4e0b-d479-cbaa0eab04d1"
      },
      "execution_count": 148,
      "outputs": [
        {
          "output_type": "execute_result",
          "data": {
            "text/plain": [
              "array([[list([1, 2])],\n",
              "       [list([[1], [2]])],\n",
              "       [list([[1, 2], [3, 4], [4, 5]])],\n",
              "       [list([1])],\n",
              "       [list([1, 2, 3, 4, 5])]], dtype=object)"
            ]
          },
          "metadata": {},
          "execution_count": 148
        }
      ]
    },
    {
      "cell_type": "code",
      "source": [
        "'''Create a 2-dimensional array with 3 rows and 3 columns containing random numbers from\n",
        "1 to 9. Find the difference between the maximum element across the columns and the\n",
        "minimum element across the rows.'''\n",
        "\n",
        "\n",
        "\n",
        "ArrayRand=np.random.randint(10,size=(3,3))\n",
        "print(ArrayRand)\n",
        "print('DIFFERENCE : ',np.subtract(np.max(ArrayRand,axis=1),np.min(ArrayRand,axis=0)))\n",
        "\n"
      ],
      "metadata": {
        "colab": {
          "base_uri": "https://localhost:8080/"
        },
        "id": "jLDdlbc25lCV",
        "outputId": "f9bbfa5e-9fba-4db6-ddf4-2db0e321ef9b"
      },
      "execution_count": 147,
      "outputs": [
        {
          "output_type": "stream",
          "name": "stdout",
          "text": [
            "[[3 9 2]\n",
            " [3 8 7]\n",
            " [1 5 9]]\n",
            "DIFFERENCE :  [8 3 7]\n"
          ]
        }
      ]
    },
    {
      "cell_type": "code",
      "source": [
        ""
      ],
      "metadata": {
        "id": "C1R2NQmVS8lT"
      },
      "execution_count": null,
      "outputs": []
    }
  ]
}