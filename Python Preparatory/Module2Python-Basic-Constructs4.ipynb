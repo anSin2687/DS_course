{
 "cells": [
  {
   "cell_type": "code",
   "execution_count": 43,
   "id": "db0c8ac7",
   "metadata": {},
   "outputs": [
    {
     "name": "stdout",
     "output_type": "stream",
     "text": [
      "Enter numbers :11 1 0 21 2 5 100\n",
      "11\n",
      "2\n",
      "5\n"
     ]
    }
   ],
   "source": [
    "'''1. Create an array that is having user defined inputs and with the help of for loop, fetch all the prime\n",
    "numbers and print the numbers.'''\n",
    "\n",
    "l1=list(map(int,input(\"Enter numbers :\").split()))\n",
    "for i in l1:\n",
    "    p=True\n",
    "    if i == 0 or i == 1:\n",
    "        p=False\n",
    "    else:\n",
    "        for pcheck in range(2,i):\n",
    "            if i % pcheck==0:\n",
    "                p=False\n",
    "    if p==True:\n",
    "        print(i)     "
   ]
  },
  {
   "cell_type": "code",
   "execution_count": 44,
   "id": "ed285a75",
   "metadata": {},
   "outputs": [
    {
     "name": "stdout",
     "output_type": "stream",
     "text": [
      "1\n",
      "2\n",
      "3\n",
      "4\n",
      "5\n",
      "6\n",
      "7\n",
      "8\n",
      "9\n",
      "10\n"
     ]
    }
   ],
   "source": [
    "''' Print the numbers from 1 to 10 using while loop.'''\n",
    "i=1\n",
    "while(i<11):\n",
    "    print(i)\n",
    "    i+=1\n"
   ]
  },
  {
   "cell_type": "code",
   "execution_count": 45,
   "id": "d406aa31",
   "metadata": {},
   "outputs": [
    {
     "name": "stdout",
     "output_type": "stream",
     "text": [
      "10\n",
      "4\n",
      "26\n",
      "4\n",
      "24\n",
      "54\n"
     ]
    }
   ],
   "source": [
    "'''Create a list that is having 10,23,4,26,4,75,24,54 values and with the help of while loop, fetch\n",
    "the even numbers and print the numbers'''\n",
    "\n",
    "l2=[10,23,4,26,4,75,24,54]\n",
    "i=0\n",
    "while(i<len(l2)):\n",
    "    if l2[i] % 2 == 0:\n",
    "        print(l2[i])\n",
    "    i+=1\n",
    "    "
   ]
  },
  {
   "cell_type": "code",
   "execution_count": null,
   "id": "738449c7",
   "metadata": {},
   "outputs": [],
   "source": []
  }
 ],
 "metadata": {
  "kernelspec": {
   "display_name": "Python 3 (ipykernel)",
   "language": "python",
   "name": "python3"
  },
  "language_info": {
   "codemirror_mode": {
    "name": "ipython",
    "version": 3
   },
   "file_extension": ".py",
   "mimetype": "text/x-python",
   "name": "python",
   "nbconvert_exporter": "python",
   "pygments_lexer": "ipython3",
   "version": "3.9.7"
  }
 },
 "nbformat": 4,
 "nbformat_minor": 5
}
