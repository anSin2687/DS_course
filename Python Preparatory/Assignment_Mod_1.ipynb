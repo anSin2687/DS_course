{
  "nbformat": 4,
  "nbformat_minor": 0,
  "metadata": {
    "colab": {
      "name": "Assignment_Mod_1.ipynb",
      "provenance": [],
      "collapsed_sections": []
    },
    "kernelspec": {
      "name": "python3",
      "display_name": "Python 3"
    },
    "language_info": {
      "name": "python"
    }
  },
  "cells": [
    {
      "cell_type": "code",
      "execution_count": 8,
      "metadata": {
        "id": "aMJjEVr44OAX",
        "colab": {
          "base_uri": "https://localhost:8080/"
        },
        "outputId": "bf22a065-359f-4bc2-e18e-023159941d4f"
      },
      "outputs": [
        {
          "output_type": "stream",
          "name": "stdout",
          "text": [
            "b is greater :  20\n"
          ]
        }
      ],
      "source": [
        "#ASSIGNMENT 1 IF ELSE\n",
        "\n",
        "a=10\n",
        "b=20\n",
        "if a > b :\n",
        "  print(\"a is greater : \" ,a)\n",
        "else:\n",
        "  print(\"b is greater : \" ,b)\n"
      ]
    },
    {
      "cell_type": "code",
      "source": [
        "#ASSIGNMENT 2 cONDITIONAL STATEMENT\n",
        "A=float(input(\"ENTER THE FIRST NO.\"))\n",
        "B=float(input(\"ENTER THE SECOND NO.\"))\n",
        "C=float(input(\"ENTER THE THIRD NO.\"))\n",
        "\n",
        "if A > B and A > C:\n",
        "  print(A,\" is greater than \",B, \" and \",C)\n",
        "elif B > A and B > C:\n",
        "  print(B,\" is greater than \",A, \" and \",C)\n",
        "else:\n",
        "  print(C,\" is greater than \",A, \" and \",B) \n"
      ],
      "metadata": {
        "id": "xk-uZ_He5xxw",
        "colab": {
          "base_uri": "https://localhost:8080/"
        },
        "outputId": "3b32f3aa-6ebf-4180-c29c-619e1804b201"
      },
      "execution_count": 10,
      "outputs": [
        {
          "output_type": "stream",
          "name": "stdout",
          "text": [
            "ENTER THE FIRST NO.40\n",
            "ENTER THE SECOND NO.50\n",
            "ENTER THE THIRD NO.20\n",
            "50.0  is greater than  40.0  and  20.0\n"
          ]
        }
      ]
    },
    {
      "cell_type": "code",
      "source": [
        "#A list containing squares of numbers from 1 to 10\n",
        "sqr=[]\n",
        "for x in range(1,11):\n",
        "  sqr.append(x**2)\n",
        "print(sqr)"
      ],
      "metadata": {
        "id": "2zJLqBC1A_-u",
        "colab": {
          "base_uri": "https://localhost:8080/"
        },
        "outputId": "400264b5-ee2f-4a1e-b2bc-0c1cab22979a"
      },
      "execution_count": 15,
      "outputs": [
        {
          "output_type": "stream",
          "name": "stdout",
          "text": [
            "[1, 4, 9, 16, 25, 36, 49, 64, 81, 100]\n"
          ]
        }
      ]
    },
    {
      "cell_type": "code",
      "source": [
        "#Function to check if year  is a leap year\n",
        "def leap_year_check(year):\n",
        "  if year % 4 == 0:\n",
        "    print(year,\" is a leap year.\")\n",
        "  else:\n",
        "    print(year,\" is not a leap year.\")\n",
        "  \n",
        "year=int(input(\"Enter a year : \"))\n",
        "leap_year_check(year)\n",
        "\n"
      ],
      "metadata": {
        "id": "aqseGRqBDyfv",
        "colab": {
          "base_uri": "https://localhost:8080/"
        },
        "outputId": "cad6b76b-07ea-47e0-8924-3fdc2acaa0f6"
      },
      "execution_count": 35,
      "outputs": [
        {
          "output_type": "stream",
          "name": "stdout",
          "text": [
            "Enter a year : 2012\n",
            "2012  is a leap year.\n"
          ]
        }
      ]
    },
    {
      "cell_type": "code",
      "source": [
        "''' Function to take an array and return another array that contains the members of first\n",
        "array that are even '''\n",
        "\n",
        "def even_array_list(list1):\n",
        "  li2=[]\n",
        "  for x in list1:\n",
        "    if x % 2 ==0:\n",
        "      li2.append(int(x))\n",
        "  return(li2)\n",
        "\n",
        "list1=[]\n",
        "a=int(input(\"ENTER THE TOTAL NO. OF NUMBERS YOU WANT TO INPUT : \"))\n",
        "for x in range(0,a):\n",
        "  b=float(input(\"Enter a number : \"))\n",
        "  list1.append(b)\n",
        "print(\"Entered List : \",list1)\n",
        "print(\"List with even numbers :\",even_array_list(list1))\n",
        "\n"
      ],
      "metadata": {
        "colab": {
          "base_uri": "https://localhost:8080/"
        },
        "id": "wMTrEuoyxinK",
        "outputId": "e784d24a-49cd-4f9f-cdc7-ee66d456d2be"
      },
      "execution_count": 30,
      "outputs": [
        {
          "output_type": "stream",
          "name": "stdout",
          "text": [
            "ENTER THE TOTAL NO. OF NUMBERS YOU WANT TO INPUT : 10\n",
            "Enter a number : 1.1\n",
            "Enter a number : 2\n",
            "Enter a number : 3\n",
            "Enter a number : 5\n",
            "Enter a number : 4.0\n",
            "Enter a number : 4.8\n",
            "Enter a number : 8\n",
            "Enter a number : 9\n",
            "Enter a number : 10.3\n",
            "Enter a number : 10.2\n",
            "Entered List :  [1.1, 2.0, 3.0, 5.0, 4.0, 4.8, 8.0, 9.0, 10.3, 10.2]\n",
            "List with even numbers : [2, 4, 8]\n"
          ]
        }
      ]
    },
    {
      "cell_type": "code",
      "source": [
        "'''Function that takes 2 arrays and prints the members of first array that are present of\n",
        "second array'''\n",
        "\n",
        "list1=[1,2,3,4,5,6,7,8,9,10]\n",
        "list2=[4,6,10,15,17,19]\n",
        "\n",
        "def compare_lists(list1,list2):\n",
        "  for x in list1:\n",
        "    if x in list2:\n",
        "      print(x)\n",
        "\n",
        "\n",
        "compare_lists(list1,list2)\n"
      ],
      "metadata": {
        "colab": {
          "base_uri": "https://localhost:8080/"
        },
        "id": "aMiPeUxY3RYS",
        "outputId": "75a194a8-542e-4d4c-dcf2-c43eb53097ab"
      },
      "execution_count": 32,
      "outputs": [
        {
          "output_type": "stream",
          "name": "stdout",
          "text": [
            "4\n",
            "6\n",
            "10\n"
          ]
        }
      ]
    },
    {
      "cell_type": "code",
      "source": [
        "#Module 1 - Introduction to Python Assignment - 2\n",
        "#Concatenate the two tuples and store it in “t_combine”\n",
        "tup1=(10,20,30)\n",
        "tup2=(40,50,60)\n",
        "t_combine=tup1+tup2\n",
        "print(t_combine)"
      ],
      "metadata": {
        "colab": {
          "base_uri": "https://localhost:8080/"
        },
        "id": "hS-K07UMJOFn",
        "outputId": "4feb1fac-466d-4762-a072-a11ba4c29e6e"
      },
      "execution_count": 37,
      "outputs": [
        {
          "output_type": "stream",
          "name": "stdout",
          "text": [
            "(10, 20, 30, 40, 50, 60)\n"
          ]
        }
      ]
    },
    {
      "cell_type": "code",
      "source": [
        "#Repeat the elements of “t_combine” 3 times\n",
        "rep=t_combine*3\n",
        "print(rep)"
      ],
      "metadata": {
        "colab": {
          "base_uri": "https://localhost:8080/"
        },
        "id": "ZPITY4YfJofN",
        "outputId": "8d215fa5-278f-472a-cc19-8ff49e309108"
      },
      "execution_count": 58,
      "outputs": [
        {
          "output_type": "stream",
          "name": "stdout",
          "text": [
            "(10, 20, 30, 40, 50, 60, 10, 20, 30, 40, 50, 60, 10, 20, 30, 40, 50, 60)\n"
          ]
        }
      ]
    },
    {
      "cell_type": "code",
      "source": [
        "#Access the 3rd element from “t_combine”\n",
        "t_combine[2]"
      ],
      "metadata": {
        "colab": {
          "base_uri": "https://localhost:8080/"
        },
        "id": "wXnIxgXXJ-E4",
        "outputId": "7eddea34-6464-41e6-eb2c-787ecd827ca3"
      },
      "execution_count": 59,
      "outputs": [
        {
          "output_type": "execute_result",
          "data": {
            "text/plain": [
              "30"
            ]
          },
          "metadata": {},
          "execution_count": 59
        }
      ]
    },
    {
      "cell_type": "code",
      "source": [
        "#Access the first three elements from “t_combine”\n",
        "t_combine[:3]"
      ],
      "metadata": {
        "colab": {
          "base_uri": "https://localhost:8080/"
        },
        "id": "AFa2TlL9KInV",
        "outputId": "c6575ac1-0e54-4b29-a18f-6a4ac9e08268"
      },
      "execution_count": 43,
      "outputs": [
        {
          "output_type": "execute_result",
          "data": {
            "text/plain": [
              "(10, 20, 30)"
            ]
          },
          "metadata": {},
          "execution_count": 43
        }
      ]
    },
    {
      "cell_type": "code",
      "source": [
        "#Access the last three elements from “t_combine”\n",
        "t_combine[:-4:-1]"
      ],
      "metadata": {
        "colab": {
          "base_uri": "https://localhost:8080/"
        },
        "id": "pPZYnkOmKTJS",
        "outputId": "d9b40314-3776-4e44-b7fe-afa7240b3bcf"
      },
      "execution_count": 57,
      "outputs": [
        {
          "output_type": "execute_result",
          "data": {
            "text/plain": [
              "(60, 50, 40)"
            ]
          },
          "metadata": {},
          "execution_count": 57
        }
      ]
    },
    {
      "cell_type": "code",
      "source": [
        "#Create a list ‘my_list’ with these elements:\n",
        "#First element is a tuple with values 1,2,3\n",
        "#Second element is a tuple with values “a”,”b”,”c”\n",
        "#Third element is a tuple with values True,False'''\n",
        "my_list=[(1,2,3),(\"a\",\"b\",\"c\"),(True,False)]\n",
        "my_list"
      ],
      "metadata": {
        "colab": {
          "base_uri": "https://localhost:8080/"
        },
        "id": "wcPF6QcdKYiS",
        "outputId": "000b944b-b4b3-475b-8280-127a9a32c29f"
      },
      "execution_count": 69,
      "outputs": [
        {
          "output_type": "execute_result",
          "data": {
            "text/plain": [
              "[(1, 2, 3), ('a', 'b', 'c'), (True, False)]"
            ]
          },
          "metadata": {},
          "execution_count": 69
        }
      ]
    },
    {
      "cell_type": "code",
      "source": [
        "#Append a new tuple – (1,’a’,True) to ‘my_list’\n",
        "my_list.append((1,'a',True))\n",
        "my_list"
      ],
      "metadata": {
        "colab": {
          "base_uri": "https://localhost:8080/"
        },
        "id": "YduMMJosMcX6",
        "outputId": "3ac0f09a-a75d-4551-80a7-51f9dc8bb930"
      },
      "execution_count": 71,
      "outputs": [
        {
          "output_type": "execute_result",
          "data": {
            "text/plain": [
              "[(1, 2, 3), ('a', 'b', 'c'), (True, False), (1, 'a', True), (1, 'a', True)]"
            ]
          },
          "metadata": {},
          "execution_count": 71
        }
      ]
    },
    {
      "cell_type": "code",
      "source": [
        "#Append a new list – [“sparta”,123] to my_list \n",
        "my_list.append([\"sparta\",123])\n",
        "my_list\n"
      ],
      "metadata": {
        "colab": {
          "base_uri": "https://localhost:8080/"
        },
        "id": "8k_xNicyMesm",
        "outputId": "ebd29238-c30d-4a2c-ed44-4f13d70bf5f2"
      },
      "execution_count": 76,
      "outputs": [
        {
          "output_type": "execute_result",
          "data": {
            "text/plain": [
              "[(1, 2, 3), ('a', 'b', 'c'), (True, False), (1, 'a', True), ['sparta', 123]]"
            ]
          },
          "metadata": {},
          "execution_count": 76
        }
      ]
    },
    {
      "cell_type": "code",
      "source": [
        "fruit={'Fruit':(\"Apple\",\"Banana\",\"Mango\",\"Guava\"),'Cost': (85,54,120,70)}\n",
        "print(fruit.keys())\n",
        "print(fruit.values())"
      ],
      "metadata": {
        "colab": {
          "base_uri": "https://localhost:8080/"
        },
        "id": "qsFv3CYUMggy",
        "outputId": "40c9d1e0-4f33-4882-a5c7-b33567441694"
      },
      "execution_count": 80,
      "outputs": [
        {
          "output_type": "stream",
          "name": "stdout",
          "text": [
            "dict_keys(['Fruit', 'Cost'])\n",
            "dict_values([('Apple', 'Banana', 'Mango', 'Guava'), (85, 54, 120, 70)])\n"
          ]
        }
      ]
    },
    {
      "cell_type": "code",
      "source": [
        "my_set={1,1,\"a\",\"a\",True,True}\n",
        "my_set"
      ],
      "metadata": {
        "colab": {
          "base_uri": "https://localhost:8080/"
        },
        "id": "7DHbGQNvM8Ym",
        "outputId": "c38eb512-6daa-40b4-d47c-173cf9a48c5e"
      },
      "execution_count": 82,
      "outputs": [
        {
          "output_type": "execute_result",
          "data": {
            "text/plain": [
              "{1, 'a'}"
            ]
          },
          "metadata": {},
          "execution_count": 82
        }
      ]
    },
    {
      "cell_type": "code",
      "source": [
        ""
      ],
      "metadata": {
        "id": "JEpG2-dUdyn3"
      },
      "execution_count": null,
      "outputs": []
    }
  ]
}