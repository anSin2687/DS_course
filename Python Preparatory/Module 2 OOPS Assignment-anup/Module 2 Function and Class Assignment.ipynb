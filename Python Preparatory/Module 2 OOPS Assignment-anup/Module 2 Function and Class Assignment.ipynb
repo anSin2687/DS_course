{
 "cells": [
  {
   "cell_type": "code",
   "execution_count": 1,
   "id": "27747406",
   "metadata": {},
   "outputs": [
    {
     "name": "stdout",
     "output_type": "stream",
     "text": [
      "Enter a Positive number : 5\n",
      "Factorial of the number is :  120\n"
     ]
    }
   ],
   "source": [
    "#factorial of the number\n",
    "def factor(num):\n",
    "    if num < 0:\n",
    "        print(\"Please enter a positive number :\")\n",
    "    else:\n",
    "        res=1\n",
    "        for x in range(1,num+1):\n",
    "            res=res*x\n",
    "        return(res)\n",
    "    \n",
    "num=int(input(\"Enter a Positive number : \"))\n",
    "print(\"Factorial of the number is : \",factor(num))\n",
    "    \n",
    "    "
   ]
  },
  {
   "cell_type": "code",
   "execution_count": 7,
   "id": "ad0df453",
   "metadata": {},
   "outputs": [
    {
     "name": "stdout",
     "output_type": "stream",
     "text": [
      "The string is containing the letter 's'\n"
     ]
    }
   ],
   "source": [
    "#function should check if the user input contains the letter ‘s’ in it\n",
    "\n",
    "def check_string(str):\n",
    "    if 's' in str:\n",
    "        print(\"The string is containing the letter 's'\")\n",
    "    else:\n",
    "        print(\"‘The string doesn't contain the letter 's'\")\n",
    "        \n",
    "str=input(\"Enter a string : \")\n",
    "check_string(str)\n"
   ]
  },
  {
   "cell_type": "code",
   "execution_count": 2,
   "id": "647daf8f",
   "metadata": {},
   "outputs": [
    {
     "name": "stdout",
     "output_type": "stream",
     "text": [
      "Enter the name of StudentAnup\n",
      "Enter the Roll No. of Student20\n",
      "Name =  Anup\n",
      "Roll No. = 20\n"
     ]
    }
   ],
   "source": [
    "'''Create a class named ‘student’ and inside the class, create a function named ‘fun1’- this\n",
    "method should accepts the user defined input and return that value.\n",
    "a. Create another method named- message() and that method should print the user\n",
    "defined input that we have defined in ‘fun1’.\n",
    "'''\n",
    "\n",
    "\n",
    "class student:\n",
    "    def fun1():\n",
    "        name=input(\"Enter the name of Student\")\n",
    "        roll=input(\"Enter the Roll No. of Student\")\n",
    "        return name,roll\n",
    "    \n",
    "    def message(tup):\n",
    "        print(\"Name = \", tup[0])\n",
    "        print(\"Roll No. =\", tup[1])\n",
    "        \n",
    "data=student.fun1()\n",
    "student.message(data)\n"
   ]
  },
  {
   "cell_type": "code",
   "execution_count": 16,
   "id": "269aec11",
   "metadata": {},
   "outputs": [
    {
     "name": "stdout",
     "output_type": "stream",
     "text": [
      "Enter a number : 4.8\n"
     ]
    },
    {
     "data": {
      "text/plain": [
       "9.6"
      ]
     },
     "execution_count": 16,
     "metadata": {},
     "output_type": "execute_result"
    }
   ],
   "source": [
    "'''Create a lambda function that should double or multiply the number (that we will be passing\n",
    "in the lambda function) by 2. Store the lambda function in a variable named ‘double_num’.'''\n",
    "\n",
    "double_num = lambda a : a*2\n",
    "a=float(input(\"Enter a number : \"))\n",
    "double_num(a)\n",
    "    \n",
    "    "
   ]
  },
  {
   "cell_type": "code",
   "execution_count": 22,
   "id": "8f937ca2",
   "metadata": {},
   "outputs": [
    {
     "name": "stdout",
     "output_type": "stream",
     "text": [
      "Enter a string :mom\n",
      "The string is a palindrome.\n"
     ]
    }
   ],
   "source": [
    "'''Take user input string and check whether that string is palindrome or not.'''\n",
    "str=input(\"Enter a string : \")\n",
    "if str==str[::-1]:\n",
    "    print(\"The string is a palindrome.\")\n",
    "else:\n",
    "    print(\"The string is not a palindrome.\")"
   ]
  },
  {
   "cell_type": "code",
   "execution_count": null,
   "id": "0a7e04dc",
   "metadata": {},
   "outputs": [],
   "source": []
  }
 ],
 "metadata": {
  "kernelspec": {
   "display_name": "Python 3 (ipykernel)",
   "language": "python",
   "name": "python3"
  },
  "language_info": {
   "codemirror_mode": {
    "name": "ipython",
    "version": 3
   },
   "file_extension": ".py",
   "mimetype": "text/x-python",
   "name": "python",
   "nbconvert_exporter": "python",
   "pygments_lexer": "ipython3",
   "version": "3.9.7"
  }
 },
 "nbformat": 4,
 "nbformat_minor": 5
}
