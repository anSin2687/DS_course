{
 "cells": [
  {
   "cell_type": "code",
   "execution_count": 5,
   "id": "5215d011",
   "metadata": {},
   "outputs": [
    {
     "name": "stdout",
     "output_type": "stream",
     "text": [
      "This is function 1 in the Modified Super class.\n"
     ]
    }
   ],
   "source": [
    "class Super:\n",
    "    def fun1(self):\n",
    "        print(\"This is function 1 in the Super class.\")\n",
    "        \n",
    "class Modified_Super(Super):\n",
    "    def fun1(self):\n",
    "        print(\"This is function 1 in the Modified Super class.\")\n",
    "    def fun2(self):\n",
    "        print(\"This is the Second function from the Modified Super class\")\n",
    "Obj=Modified_Super()\n",
    "Obj.fun1()\n",
    "        "
   ]
  },
  {
   "cell_type": "code",
   "execution_count": 12,
   "id": "77692eb2",
   "metadata": {},
   "outputs": [],
   "source": [
    "def Hello(argument1):\n",
    "    print(\"This function is only having 1 argument\",argument1)\n",
    "\n",
    "\n",
    "def Hello(argument1,argument2):\n",
    "    print(\"This function is having 2 arguments.\",argument1,argument2)\n",
    "    \n"
   ]
  },
  {
   "cell_type": "code",
   "execution_count": 11,
   "id": "f3d6fec9",
   "metadata": {},
   "outputs": [
    {
     "name": "stdout",
     "output_type": "stream",
     "text": [
      "‘This function is having 2 arguments. a b\n",
      "None\n"
     ]
    }
   ],
   "source": [
    "print(Hello('a','b'))"
   ]
  },
  {
   "cell_type": "code",
   "execution_count": 13,
   "id": "6b2b5598",
   "metadata": {},
   "outputs": [
    {
     "ename": "TypeError",
     "evalue": "Hello() missing 1 required positional argument: 'argument2'",
     "output_type": "error",
     "traceback": [
      "\u001b[1;31m---------------------------------------------------------------------------\u001b[0m",
      "\u001b[1;31mTypeError\u001b[0m                                 Traceback (most recent call last)",
      "\u001b[1;32m~\\AppData\\Local\\Temp/ipykernel_512/1319536581.py\u001b[0m in \u001b[0;36m<module>\u001b[1;34m\u001b[0m\n\u001b[1;32m----> 1\u001b[1;33m \u001b[0mprint\u001b[0m\u001b[1;33m(\u001b[0m\u001b[0mHello\u001b[0m\u001b[1;33m(\u001b[0m\u001b[1;34m'a'\u001b[0m\u001b[1;33m)\u001b[0m\u001b[1;33m)\u001b[0m\u001b[1;33m\u001b[0m\u001b[1;33m\u001b[0m\u001b[0m\n\u001b[0m",
      "\u001b[1;31mTypeError\u001b[0m: Hello() missing 1 required positional argument: 'argument2'"
     ]
    }
   ],
   "source": [
    "print(Hello('a'))    \n",
    "'''Function Overloading is not supported by Python'''"
   ]
  },
  {
   "cell_type": "code",
   "execution_count": 15,
   "id": "309ce15f",
   "metadata": {},
   "outputs": [
    {
     "name": "stdout",
     "output_type": "stream",
     "text": [
      "Enter the Numbers. 1 4 8 3 10\n"
     ]
    },
    {
     "data": {
      "text/plain": [
       "26"
      ]
     },
     "execution_count": 15,
     "metadata": {},
     "output_type": "execute_result"
    }
   ],
   "source": [
    "def Sum(n):\n",
    "    s=0\n",
    "    for i in n:\n",
    "        s+=i\n",
    "    return s\n",
    "\n",
    "        \n",
    "    \n",
    "list1=list(map(int,input(\"Enter the Numbers. \").split()))\n",
    "Sum(list1)\n",
    "\n"
   ]
  },
  {
   "cell_type": "code",
   "execution_count": 52,
   "id": "eae51049",
   "metadata": {},
   "outputs": [],
   "source": [
    "class Encapsulation:\n",
    "    def __init__(self,value=10):\n",
    "        self.originalValue=value\n",
    "        \n",
    "    def Value(self):\n",
    "        return self.originalValue\n",
    "    \n",
    "    def setValue(self,value):\n",
    "        self.originalValue=value\n",
    "        return self.originalValue\n",
    "        \n",
    "    \n",
    "    "
   ]
  },
  {
   "cell_type": "code",
   "execution_count": 53,
   "id": "bd31ec8e",
   "metadata": {},
   "outputs": [
    {
     "name": "stdout",
     "output_type": "stream",
     "text": [
      "Value set in Cons :  10\n",
      "Value set in using setValue :  20\n"
     ]
    }
   ],
   "source": [
    "Ob=Encapsulation()\n",
    "Val1=Ob.Value()\n",
    "Val2=Ob.setValue(20)\n",
    "print(\"Value set in Cons : \",Val1)\n",
    "print(\"Value set in using setValue : \",Val2)\n"
   ]
  },
  {
   "cell_type": "code",
   "execution_count": null,
   "id": "2f1390f8",
   "metadata": {},
   "outputs": [],
   "source": []
  },
  {
   "cell_type": "code",
   "execution_count": null,
   "id": "a78a9247",
   "metadata": {},
   "outputs": [],
   "source": []
  }
 ],
 "metadata": {
  "kernelspec": {
   "display_name": "Python 3 (ipykernel)",
   "language": "python",
   "name": "python3"
  },
  "language_info": {
   "codemirror_mode": {
    "name": "ipython",
    "version": 3
   },
   "file_extension": ".py",
   "mimetype": "text/x-python",
   "name": "python",
   "nbconvert_exporter": "python",
   "pygments_lexer": "ipython3",
   "version": "3.9.7"
  }
 },
 "nbformat": 4,
 "nbformat_minor": 5
}
