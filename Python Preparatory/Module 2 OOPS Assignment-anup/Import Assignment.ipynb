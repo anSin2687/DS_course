{
 "cells": [
  {
   "cell_type": "code",
   "execution_count": 1,
   "id": "fbb47c0d",
   "metadata": {},
   "outputs": [
    {
     "name": "stdout",
     "output_type": "stream",
     "text": [
      "Enter first number : 45\n",
      "Enter Second number : 67\n",
      "Addition =  112.0\n",
      "subtraction =  -22.0\n",
      "multiplication =  3015.0\n",
      "division =  0.6716417910447762\n"
     ]
    }
   ],
   "source": [
    "from module import addition,subtraction,multiplication,division\n",
    "num1=float(input(\"Enter first number : \"))\n",
    "num2=float(input(\"Enter Second number : \"))\n",
    "print(\"Addition = \",addition(num1,num2))\n",
    "print(\"subtraction = \",subtraction(num1,num2))\n",
    "print(\"multiplication = \",multiplication(num1,num2))\n",
    "print(\"division = \",division(num1,num2))\n"
   ]
  },
  {
   "cell_type": "code",
   "execution_count": 2,
   "id": "4dbb3ef8",
   "metadata": {},
   "outputs": [
    {
     "name": "stdout",
     "output_type": "stream",
     "text": [
      "Enter first number : 67\n",
      "Enter Second number : 54\n",
      "Addition =  121.0\n"
     ]
    }
   ],
   "source": [
    "num1=float(input(\"Enter first number : \"))\n",
    "num2=float(input(\"Enter Second number : \"))\n",
    "print(\"Addition = \",addition(num1,num2))"
   ]
  },
  {
   "cell_type": "code",
   "execution_count": 4,
   "id": "26d08dfc",
   "metadata": {},
   "outputs": [
    {
     "name": "stdout",
     "output_type": "stream",
     "text": [
      "Enter first number : 70\n",
      "Enter Second number : 67\n",
      "subtraction =  3.0\n"
     ]
    }
   ],
   "source": [
    "num1=float(input(\"Enter first number : \"))\n",
    "num2=float(input(\"Enter Second number : \"))\n",
    "print(\"subtraction = \",subtraction(num1,num2))\n"
   ]
  },
  {
   "cell_type": "code",
   "execution_count": 6,
   "id": "246cc2ff",
   "metadata": {},
   "outputs": [
    {
     "name": "stdout",
     "output_type": "stream",
     "text": [
      "Enter first number : 45\n",
      "Enter Second number : 5\n",
      "multiplication =  225.0\n",
      "division =  9.0\n"
     ]
    }
   ],
   "source": [
    "num1=float(input(\"Enter first number : \"))\n",
    "num2=float(input(\"Enter Second number : \"))\n",
    "print(\"multiplication = \",multiplication(num1,num2))\n",
    "print(\"division = \",division(num1,num2))"
   ]
  },
  {
   "cell_type": "code",
   "execution_count": null,
   "id": "e67447d3",
   "metadata": {},
   "outputs": [],
   "source": []
  }
 ],
 "metadata": {
  "kernelspec": {
   "display_name": "Python 3 (ipykernel)",
   "language": "python",
   "name": "python3"
  },
  "language_info": {
   "codemirror_mode": {
    "name": "ipython",
    "version": 3
   },
   "file_extension": ".py",
   "mimetype": "text/x-python",
   "name": "python",
   "nbconvert_exporter": "python",
   "pygments_lexer": "ipython3",
   "version": "3.9.7"
  }
 },
 "nbformat": 4,
 "nbformat_minor": 5
}
