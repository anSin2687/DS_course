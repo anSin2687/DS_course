{
 "cells": [
  {
   "cell_type": "code",
   "execution_count": 4,
   "id": "12853a13",
   "metadata": {},
   "outputs": [
    {
     "name": "stdout",
     "output_type": "stream",
     "text": [
      "Enter the name of Employee : Anup\n",
      "Enter the Salary of Employee : 55000\n",
      "Employee Name : Anup Employee Salary : 55000\n"
     ]
    }
   ],
   "source": [
    "class Employee():\n",
    "    def __init__(self,name,salary):\n",
    "        self.name=name\n",
    "        self.salary=salary\n",
    "    def __str__(self):\n",
    "        return \"Employee Name : \" + self.name + \" Employee Salary : \" + str(self.salary)\n",
    "    \n",
    "name=input(\"Enter the name of Employee : \")\n",
    "salary=input(\"Enter the Salary of Employee : \")\n",
    "\n",
    "obj=Employee(name,salary)\n",
    "print(obj)\n",
    "    "
   ]
  },
  {
   "cell_type": "code",
   "execution_count": 5,
   "id": "1e55b9e1",
   "metadata": {},
   "outputs": [
    {
     "name": "stdout",
     "output_type": "stream",
     "text": [
      "Enter a number for selected operation. 38\n",
      "Please Choose an option from below : \n",
      "add \n",
      "sub \n",
      "mul \n",
      "div \n",
      "sub\n",
      "Enter another number for selected operation. 6\n",
      "38   sub   6  =  32\n"
     ]
    }
   ],
   "source": [
    "class Calculator():\n",
    "    def add(self,num1,num2):\n",
    "        res=num1+num2\n",
    "        return res\n",
    "    def sub(self,num1,num2):\n",
    "        res=num1-num2\n",
    "        return res\n",
    "    def mul(self,num1,num2):\n",
    "        res=num1*num2\n",
    "        return res\n",
    "    def div(self,num1,num2):\n",
    "        res=num1/num2\n",
    "        return res\n",
    "    def execute_command(self,fun,num1,num2):\n",
    "        if fun == 'add':\n",
    "            res=self.add(num1,num2)\n",
    "        elif fun == 'sub':\n",
    "            res=self.sub(num1,num2)\n",
    "        elif fun == 'mul':\n",
    "            res=self.mul(num1,num2)\n",
    "        elif fun == 'div':\n",
    "            res=self.div(num1,num2)\n",
    "        return res\n",
    "\n",
    "obj=Calculator()\n",
    "num1=int(input(\"Enter a number for selected operation. \"))\n",
    "choice=input(\"Please Choose an option from below : \\nadd \\nsub \\nmul \\ndiv \\n\")\n",
    "num2=int(input(\"Enter another number for selected operation. \"))\n",
    "if choice in ('add','sub','div','mul'):\n",
    "    res=obj.execute_command(choice,num1,num2)\n",
    "    print(num1,\" \",choice,\" \",num2,\" = \",res)\n",
    "else:\n",
    "    print(\"Enter Valid Operation \")\n",
    "\n",
    "            \n"
   ]
  },
  {
   "cell_type": "code",
   "execution_count": null,
   "id": "94fbd2d4",
   "metadata": {},
   "outputs": [],
   "source": []
  }
 ],
 "metadata": {
  "kernelspec": {
   "display_name": "Python 3 (ipykernel)",
   "language": "python",
   "name": "python3"
  },
  "language_info": {
   "codemirror_mode": {
    "name": "ipython",
    "version": 3
   },
   "file_extension": ".py",
   "mimetype": "text/x-python",
   "name": "python",
   "nbconvert_exporter": "python",
   "pygments_lexer": "ipython3",
   "version": "3.9.7"
  }
 },
 "nbformat": 4,
 "nbformat_minor": 5
}
