{
 "cells": [
  {
   "cell_type": "code",
   "execution_count": 5,
   "id": "0c5924d3",
   "metadata": {},
   "outputs": [
    {
     "name": "stdout",
     "output_type": "stream",
     "text": [
      "10\n"
     ]
    }
   ],
   "source": [
    "class parent_class():\n",
    "    num=10\n",
    "\n",
    "class child_class(parent_class):\n",
    "    pass\n",
    "\n",
    "\n",
    "obj=child_class()\n",
    "print(obj.num)"
   ]
  },
  {
   "cell_type": "code",
   "execution_count": 2,
   "id": "a0012e44",
   "metadata": {},
   "outputs": [
    {
     "name": "stdout",
     "output_type": "stream",
     "text": [
      "anup\n"
     ]
    }
   ],
   "source": [
    "class A:\n",
    "    def __init__(self,name,age):\n",
    "        self.name=name\n",
    "        self.age=age\n",
    "    def details():\n",
    "        return self.name\n",
    "    \n",
    "class B:\n",
    "    def __init__(self,name,iden):\n",
    "        self.name=name\n",
    "        self.id=iden\n",
    "    def details():\n",
    "        return self.name\n",
    "    \n",
    "class C(A,B):\n",
    "    def __init__(self,name,iden,age):\n",
    "        A.__init__(self,name,age)\n",
    "    \n",
    "    def get_details(self):\n",
    "        return self.name\n",
    "\n",
    "obj=C('anup',1,24)\n",
    "print(obj.get_details())"
   ]
  },
  {
   "cell_type": "code",
   "execution_count": 8,
   "id": "fee86295",
   "metadata": {},
   "outputs": [
    {
     "name": "stdout",
     "output_type": "stream",
     "text": [
      "This is the final method from the super class\n",
      "This is the first function from Sub 1 class\n",
      "This is the first function from Sub 2 class\n"
     ]
    }
   ],
   "source": [
    "class sub1:\n",
    "    def first(self):\n",
    "        print(\"This is the first function from Sub 1 class\")\n",
    "\n",
    "class sub2:\n",
    "    def second(self):\n",
    "        print(\"This is the first function from Sub 2 class\")\n",
    "    \n",
    "class Super(sub1,sub2):\n",
    "    def final(self):\n",
    "        print(\"This is the final method from the super class\")\n",
    "\n",
    "obj=Super()\n",
    "obj.final()\n",
    "obj.first()\n",
    "obj.second()       \n"
   ]
  },
  {
   "cell_type": "code",
   "execution_count": 9,
   "id": "5abe6df4",
   "metadata": {},
   "outputs": [
    {
     "name": "stdout",
     "output_type": "stream",
     "text": [
      "This is the message from the fun1\n"
     ]
    }
   ],
   "source": [
    "class Parent:\n",
    "    def fun1(self):\n",
    "        print(\"This is the message from the fun1\")\n",
    "class Child1:\n",
    "    def fun2(self):\n",
    "        print(\"This is the message from the fun2\")\n",
    "class Child2(Parent):\n",
    "    def fun3(self):\n",
    "        print(\"This is the message from the fun3\")\n",
    "obj=Child2()\n",
    "obj.fun1()\n"
   ]
  },
  {
   "cell_type": "code",
   "execution_count": 10,
   "id": "60964579",
   "metadata": {},
   "outputs": [
    {
     "name": "stdout",
     "output_type": "stream",
     "text": [
      "This is the message from the fun1\n",
      "This is the message from the fun2\n",
      "This is the message from the fun3\n"
     ]
    }
   ],
   "source": [
    "class Parent:\n",
    "    def fun1(self):\n",
    "        print(\"This is the message from the fun1\")\n",
    "class Child:\n",
    "    def fun2(self):\n",
    "        print(\"This is the message from the fun2\")\n",
    "class Hybrid(Parent,Child):\n",
    "    def fun3(self):\n",
    "        print(\"This is the message from the fun3\")\n",
    "obj=Hybrid()\n",
    "obj.fun1()\n",
    "obj.fun2()\n",
    "obj.fun3() "
   ]
  },
  {
   "cell_type": "code",
   "execution_count": null,
   "id": "e21f6999",
   "metadata": {},
   "outputs": [],
   "source": []
  }
 ],
 "metadata": {
  "kernelspec": {
   "display_name": "Python 3 (ipykernel)",
   "language": "python",
   "name": "python3"
  },
  "language_info": {
   "codemirror_mode": {
    "name": "ipython",
    "version": 3
   },
   "file_extension": ".py",
   "mimetype": "text/x-python",
   "name": "python",
   "nbconvert_exporter": "python",
   "pygments_lexer": "ipython3",
   "version": "3.9.7"
  }
 },
 "nbformat": 4,
 "nbformat_minor": 5
}
