{
 "cells": [
  {
   "cell_type": "code",
   "execution_count": 2,
   "metadata": {},
   "outputs": [],
   "source": [
    "import pandas as pd\n",
    "import numpy as np\n",
    "import matplotlib.pyplot as plt\n",
    "import scipy.stats as st\n",
    "from statsmodels.stats.weightstats import ztest as ztest\n",
    "import math\n"
   ]
  },
  {
   "cell_type": "markdown",
   "metadata": {},
   "source": [
    "Ans 1 -- OPTION D       "
   ]
  },
  {
   "cell_type": "code",
   "execution_count": 84,
   "metadata": {},
   "outputs": [
    {
     "name": "stdout",
     "output_type": "stream",
     "text": [
      "28.49491182649983\n",
      "811.9599999999999\n"
     ]
    }
   ],
   "source": [
    "Sample = [42, 61, 39, 70, 8, 30, 52, 28, 95, 86, 35, 77, 80, 86, 1, 84, 90, 57, 45, 6, 1, 56, 60, 83, 24, 63, 93, 59, 92,53]\n",
    "SampleArray=np.array(Sample)\n",
    "print(SampleArray.std())\n",
    "print(SampleArray.var())"
   ]
  },
  {
   "cell_type": "markdown",
   "metadata": {},
   "source": [
    "Ans 2 --   Option D"
   ]
  },
  {
   "cell_type": "code",
   "execution_count": 72,
   "metadata": {},
   "outputs": [
    {
     "name": "stdout",
     "output_type": "stream",
     "text": [
      "38.25\n",
      "87\n"
     ]
    },
    {
     "data": {
      "text/plain": [
       "15.0"
      ]
     },
     "execution_count": 72,
     "metadata": {},
     "output_type": "execute_result"
    }
   ],
   "source": [
    "array = np.array([17, 27, 80, 39, 72, 95, 52, 85, 8, 64, 36, 15, 62, 76, 66, 67, 59, 92])\n",
    "range=array.max()-array.min()\n",
    "Q1=np.quantile(array,0.25)\n",
    "Q3=np.quantile(array,0.75)\n",
    "IQR=Q3-Q1\n",
    "print(IQR)\n",
    "print(range)\n",
    "8.25+1.5*4.5"
   ]
  },
  {
   "cell_type": "markdown",
   "metadata": {},
   "source": [
    "Ans 3 -- Option B\n",
    "mean<median<mode\n",
    "56<63<65\n"
   ]
  },
  {
   "cell_type": "markdown",
   "metadata": {},
   "source": [
    "Ans 4 -- \n",
    "lower limit=4-1.5*4.5=-2.75\n",
    "upper limit=8.25+1.5*4.5=15.0"
   ]
  },
  {
   "cell_type": "markdown",
   "metadata": {},
   "source": [
    "Ans 5 -- Option D\n"
   ]
  },
  {
   "cell_type": "markdown",
   "metadata": {},
   "source": [
    "Ans 6 -- Option A"
   ]
  },
  {
   "cell_type": "code",
   "execution_count": 41,
   "metadata": {},
   "outputs": [
    {
     "data": {
      "text/plain": [
       "(50.400470937660145, 69.69952906233985)"
      ]
     },
     "execution_count": 41,
     "metadata": {},
     "output_type": "execute_result"
    }
   ],
   "source": [
    "Sample = [78, 65, 20, 69, 36, 81, 85, 71, 44, 71, 47, 37, 89, 25, 73, 55, 80, 52, 46, 77]\n",
    "st.t.interval(alpha=0.95, df=len(Sample)-1, loc=np.mean(Sample), scale=st.sem(Sample)) "
   ]
  },
  {
   "cell_type": "markdown",
   "metadata": {},
   "source": [
    "Ans 7 -- Option B"
   ]
  },
  {
   "cell_type": "code",
   "execution_count": 6,
   "metadata": {},
   "outputs": [
    {
     "data": {
      "text/plain": [
       "(1.0308547928995084, 0.3026089188995713)"
      ]
     },
     "execution_count": 6,
     "metadata": {},
     "output_type": "execute_result"
    }
   ],
   "source": [
    "Sample = [88, 92, 84, 64, 96, 97, 67, 97, 96, 99,115, 119, 119, 129, 130, 142, 102, 123, 134, 105]\n",
    "ztest(Sample,value=100)"
   ]
  },
  {
   "cell_type": "markdown",
   "metadata": {},
   "source": [
    "#ANS 8 -- OPTION C"
   ]
  },
  {
   "cell_type": "markdown",
   "metadata": {},
   "source": [
    "#ANS 9 --OPTION A"
   ]
  },
  {
   "cell_type": "markdown",
   "metadata": {},
   "source": [
    "Ans 10 -- Option A"
   ]
  },
  {
   "cell_type": "markdown",
   "metadata": {},
   "source": [
    "Ans 11 -- Option A"
   ]
  },
  {
   "cell_type": "markdown",
   "metadata": {},
   "source": [
    "\n",
    "\n",
    "#ANS 12 -- OPTION A\n",
    "\n",
    "\n",
    "#Probability of raining=1/3\n",
    "#Probability of not raining=2/3\n",
    "#Probability of heavy traffic if raining=1/2(assuming sum of probability can't be greater than one)\n",
    "#Probability of heavy traffic if not raining=1/4\n",
    "#Late for work if raining and traffic = 1/2\n",
    "#Not late for work and no rain = 1/8\n",
    "#late if Rain with no traffic = late if No Rain and traffic = 1/4\n",
    "\n",
    "#p(not Raining U Heavy traffic U not late)=2/3*1/4*3/4=6/48=1/8\n",
    "#p(late)=p(rain | traffic | late)+p(norain | traffic | late)+p(rain | no traffic | late)+p(norain | no traffic | late)\n",
    "#=(1/3*1/2*1/2)+(2/3*1/4*1/4)+(1/3*1/2*1/4)+(2/3*3/4*7/8)=1/12+1/24+1/24+1/16=11/48\n",
    "\n",
    "#P(rain|late)=p(rain n late)/p(l)= p(rain | traffic | late)+p(rain | no traffic | late)/(11/48)\n",
    "#=1/12+1/24/(11/48)=1/8*48/11=6/11\n"
   ]
  },
  {
   "cell_type": "markdown",
   "metadata": {},
   "source": [
    "ANS 13 -- Option A"
   ]
  },
  {
   "cell_type": "markdown",
   "metadata": {},
   "source": [
    "\n",
    "ANS 14 -- Option A\n",
    "p(defective)=50/850=1/17\n",
    "=1/17*1/17=0.003"
   ]
  },
  {
   "cell_type": "markdown",
   "metadata": {},
   "source": [
    "ANS 15 -- OPTION B"
   ]
  },
  {
   "cell_type": "markdown",
   "metadata": {},
   "source": [
    "ANS 16 -- OPTION A,C,D"
   ]
  },
  {
   "cell_type": "markdown",
   "metadata": {},
   "source": [
    "ANS 17 -- OPTION C"
   ]
  },
  {
   "cell_type": "markdown",
   "metadata": {},
   "source": [
    "ANS 18 -- OPTION C"
   ]
  },
  {
   "cell_type": "code",
   "execution_count": 108,
   "metadata": {},
   "outputs": [
    {
     "data": {
      "text/plain": [
       "Ttest_1sampResult(statistic=-5.304483619392325, pvalue=0.0004909393164477487)"
      ]
     },
     "execution_count": 108,
     "metadata": {},
     "output_type": "execute_result"
    }
   ],
   "source": [
    "#ANS 19 -- OPTION  A\n",
    "Sample = np.array([5, 3, 3, 5, 5, 6, 6, 7, 3, 8])\n",
    "PopMean=8\n",
    "st.ttest_1samp(Sample,PopMean)"
   ]
  },
  {
   "cell_type": "code",
   "execution_count": 109,
   "metadata": {},
   "outputs": [
    {
     "name": "stdout",
     "output_type": "stream",
     "text": [
      "0.0020373108426033903\n",
      "Accept null hypothesis, variance of both the machines are same\n"
     ]
    }
   ],
   "source": [
    "#ANS 20 -- OPTION A\n",
    "Machine1=1.84\n",
    "Machine2=6.36\n",
    "f=Machine2/Machine1\n",
    "dfn=24\n",
    "dfd=23\n",
    "p=1-st.f.cdf(f,24,23)\n",
    "print(p)\n",
    "Alpha=0.05\n",
    "if p>Alpha:\n",
    "    print(\" Reject null hypothesis, variance of both the machines are same\")\n",
    "elif Alpha>p:\n",
    "    print(\"Accept null hypothesis, variance of both the machines are same\")"
   ]
  },
  {
   "cell_type": "code",
   "execution_count": 110,
   "metadata": {},
   "outputs": [
    {
     "name": "stdout",
     "output_type": "stream",
     "text": [
      "-0.7251256159282491 0.7658125146074999\n",
      " Accept null hypothesis, reactor operating at the desired condition\n"
     ]
    }
   ],
   "source": [
    "#Ans 21 -- OPTION B\n",
    "\n",
    "PopMean=450\n",
    "n=24\n",
    "Samplemean=450.3\n",
    "variance=1.0\n",
    "SampleStd=(variance*np.sqrt(n))\n",
    "data=SampleStd*np.random.randn(24)*Samplemean\n",
    "\n",
    "Z_stats, pvalue =ztest(data,value=PopMean,alternative='larger')\n",
    "print(Z_stats,pvalue)\n",
    "\n",
    "\n",
    "if p>Alpha:\n",
    "    print(\" Reject null hypothesis, reactor operating at the desired condition\")\n",
    "elif Alpha>p:\n",
    "    print(\" Accept null hypothesis, reactor operating at the desired condition\")"
   ]
  },
  {
   "cell_type": "code",
   "execution_count": 78,
   "metadata": {},
   "outputs": [
    {
     "name": "stdout",
     "output_type": "stream",
     "text": [
      "f-stats 1.9407176287051486\n",
      "p 0.039406033393726725\n"
     ]
    }
   ],
   "source": [
    "#ANS 22 -- OPTION \n",
    "S1= np.array([-3, 3, 5, 9, 2, 5, 10, 5, 2, 6])\n",
    "S2= np.array([ 6, 7, 8, 7, 3, 12, 7, 10, 6, 11])\n",
    "print(\"f-stats\",np.var(S1)/np.var(S2))\n",
    "print(\"p\",1-st.f.cdf(f, 9, 9))"
   ]
  },
  {
   "cell_type": "code",
   "execution_count": 111,
   "metadata": {},
   "outputs": [
    {
     "data": {
      "text/plain": [
       "0.6166666666666667"
      ]
     },
     "execution_count": 111,
     "metadata": {},
     "output_type": "execute_result"
    }
   ],
   "source": [
    "#ANS 23 -- OPTION  D\n",
    "#{HH,HT,TH,TT}\n",
    "#P(C2=t|c1=h)=P(c2=t n c1=h)/p(c1=h)=P(C2=t)*P(c1=h)/p(c1=h)\n",
    "#P(30/120+44/120)*P(36/120+16/120)/P(36/120+16/120)\n",
    "#P((30/126)/(62/126)=0.62\n",
    "(30/120+44/120)*(36/120+16/120)/(36/120+16/120)"
   ]
  },
  {
   "cell_type": "code",
   "execution_count": 112,
   "metadata": {},
   "outputs": [
    {
     "data": {
      "text/plain": [
       "0.5605307236380315"
      ]
     },
     "execution_count": 112,
     "metadata": {},
     "output_type": "execute_result"
    }
   ],
   "source": [
    "#ANS 24 -- OPTION C\n",
    "#P(A|ND)=0.9174\n",
    "#P(R|ND)=1-0.9174=0.0826\n",
    "#P(A|D)=0.0319\n",
    "#(R|D)=0.9681\n",
    "#P(ND)=0.9373\n",
    "#P(D)=0.0627\n",
    "#P(ND|R)=P(R n ND)/P(ND)=P(R)*P(ND)/P(ND)=\n",
    "(0.9373*0.0826)/((0.0826*0.9373)+(0.9681*0.0627))"
   ]
  },
  {
   "cell_type": "code",
   "execution_count": 113,
   "metadata": {},
   "outputs": [
    {
     "data": {
      "text/plain": [
       "0.82"
      ]
     },
     "execution_count": 113,
     "metadata": {},
     "output_type": "execute_result"
    }
   ],
   "source": [
    "#ANS25 -- OPTION D\n",
    "#P(DOS)=0.69\n",
    "#P(DHO)=0.24\n",
    "#P(DOSnDHO)=0.11\n",
    "(0.69+0.24)-0.11"
   ]
  },
  {
   "cell_type": "code",
   "execution_count": 114,
   "metadata": {},
   "outputs": [
    {
     "data": {
      "text/plain": [
       "0.42105263157894735"
      ]
     },
     "execution_count": 114,
     "metadata": {},
     "output_type": "execute_result"
    }
   ],
   "source": [
    "#ANS 26 -- OPTION  C\n",
    "8/19"
   ]
  },
  {
   "cell_type": "code",
   "execution_count": 115,
   "metadata": {},
   "outputs": [],
   "source": [
    "#Ans 27 -- OPTION A\n",
    "#p(c1H)=50+25/144=0.5208333333333334\n",
    "#p(c1T)=39+30/144=0.4791666666666667\n",
    "#p(c2H)=50+30/144=0.5555555555555556"
   ]
  },
  {
   "cell_type": "code",
   "execution_count": 26,
   "metadata": {},
   "outputs": [
    {
     "data": {
      "text/plain": [
       "0.17640000000000003"
      ]
     },
     "execution_count": 26,
     "metadata": {},
     "output_type": "execute_result"
    }
   ],
   "source": [
    "#ANS 28 -- OPTION A\n",
    "#P(EnF)=0.24\n",
    "#P(EuF)=0.39+0.24+0.88=1.51"
   ]
  }
 ],
 "metadata": {
  "interpreter": {
   "hash": "26de051ba29f2982a8de78e945f0abaf191376122a1563185a90213a26c5da77"
  },
  "kernelspec": {
   "display_name": "Python 3.10.2 64-bit",
   "language": "python",
   "name": "python3"
  },
  "language_info": {
   "codemirror_mode": {
    "name": "ipython",
    "version": 3
   },
   "file_extension": ".py",
   "mimetype": "text/x-python",
   "name": "python",
   "nbconvert_exporter": "python",
   "pygments_lexer": "ipython3",
   "version": "3.10.2"
  },
  "orig_nbformat": 4
 },
 "nbformat": 4,
 "nbformat_minor": 2
}
